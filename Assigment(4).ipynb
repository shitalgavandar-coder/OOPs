{
 "cells": [
  {
   "cell_type": "markdown",
   "id": "42a887a5-cb56-46ce-99d9-38e8b5a2d543",
   "metadata": {},
   "source": [
    "### Python OOPs Questions"
   ]
  },
  {
   "cell_type": "markdown",
   "id": "523886b5-48f2-4ec5-8465-fe4e4d40db62",
   "metadata": {},
   "source": [
    "## 1. What is Object-Oriented Programming (OOP)?\n",
    "\n",
    "Definition: OOP is a programming style where we organize code into classes and objects.\n",
    "\n",
    "It allows us to model real-world entities with attributes (data) and methods (behavior).\n",
    "\n",
    "OOP helps in reusability, modularity, and easier maintenance.\n",
    "\n",
    "✅ Example: A Car class with attributes like color, brand, and methods like drive()."
   ]
  },
  {
   "cell_type": "markdown",
   "id": "01e09803-f803-43f0-b251-286597402741",
   "metadata": {},
   "source": [
    "## 2. What is a class in OOP?\n",
    "\n",
    "A class is a blueprint for creating objects.\n",
    "\n",
    "It defines attributes (variables) and methods (functions) that objects will have.\n",
    "\n",
    "✅ Example:\n",
    "\n",
    "class Car:\n",
    "    def __init__(self, brand, color):\n",
    "\n",
    "        self.brand = brand\n",
    "\n",
    "        self.color = color"
   ]
  },
  {
   "cell_type": "markdown",
   "id": "d72e0324-b85d-40f6-8f8f-b36931f487f5",
   "metadata": {},
   "source": [
    "## 3. What is an object in OOP ?\n",
    "\n",
    "An object is an instance of a class.\n",
    "\n",
    "Objects have their own data but share the class’s methods.\n",
    "\n",
    "✅ Example:\n",
    "\n",
    "c1 = Car(\"Tesla\", \"Red\")   "
   ]
  },
  {
   "cell_type": "markdown",
   "id": "5df09292-f6ed-4cbc-9fd7-b3209693586d",
   "metadata": {},
   "source": [
    "## 4. What is the difference between abstraction and encapsulation ?\n",
    "\n",
    "Abstraction → Hides implementation details and shows only essential features.\n",
    "\n",
    "(e.g., You call .sort() on a list without knowing the internal sorting algorithm).\n",
    "\n",
    "Encapsulation → Bundles data (attributes) and methods in a single unit (class) and controls access.\n",
    "\n",
    "(e.g., Private variables in a class)."
   ]
  },
  {
   "cell_type": "markdown",
   "id": "e25477e2-c9cb-49b0-a342-84b9904865e3",
   "metadata": {},
   "source": [
    "## 5. What are dunder methods in Python ?\n",
    "\n",
    "Dunder methods = Double underscore methods (__method__).\n",
    "\n",
    "They allow us to define how objects behave with built-in operators or functions.\n",
    "\n",
    "✅ Examples:\n",
    "\n",
    "__init__ → constructor\n",
    "\n",
    "__str__ → string representation\n",
    "\n",
    "__add__ → operator overloading for +"
   ]
  },
  {
   "cell_type": "markdown",
   "id": "902481bf-e4e9-43dd-82c2-d72238602104",
   "metadata": {},
   "source": [
    "## 6. Explain the concept of inheritance in OOPH ?\n",
    "\n",
    "Inheritance allows one class (child) to use properties & methods of another class (parent).\n",
    "\n",
    "Helps in code reuse.\n",
    "\n",
    "✅ Example:\n",
    "\n",
    "class Animal:\n",
    "\n",
    "    def speak(self):\n",
    "\n",
    "        print(\"Some sound\")\n",
    "\n",
    "class Dog(Animal):  \n",
    "\n",
    "    def speak(self):\n",
    "\n",
    "        print(\"Bark\")"
   ]
  },
  {
   "cell_type": "markdown",
   "id": "9ed01b8b-90a4-4646-bd08-777ad6299dad",
   "metadata": {},
   "source": [
    "## 7. What is polymorphism in OOP ?\n",
    "\n",
    "Polymorphism = Same method name but different behaviors depending on the object.\n",
    "\n",
    "Achieved by method overriding or method overloading (not native in Python).\n",
    "\n",
    "✅ Example:\n",
    "\n",
    "for animal in [Dog(), Cat()]:\n",
    "\n",
    "    animal.speak()  "
   ]
  },
  {
   "cell_type": "markdown",
   "id": "b8842e06-5ae1-4bde-b445-eb9b7fb408af",
   "metadata": {},
   "source": [
    "## 8.How is encapsulation achieved in Python ?\n",
    "\n",
    "By making attributes private (using __variable) and providing getter/setter methods.\n",
    "\n",
    "✅ Example:\n",
    "\n",
    "class BankAccount:\n",
    "    def __init__(self, balance):\n",
    "        \n",
    "        self.__balance = balance   \n",
    "\n",
    "    def get_balance(self):\n",
    "        \n",
    "        return self.__balance\n"
   ]
  },
  {
   "cell_type": "markdown",
   "id": "40fb0d14-e05c-4c84-a1c2-6081c03da4b1",
   "metadata": {},
   "source": [
    "## 9.What is a constructor in Python ?\n",
    "\n",
    "A constructor is the __init__() method.\n",
    "\n",
    "It runs automatically when an object is created and initializes attributes.\n",
    "\n",
    "✅ Example:\n",
    "\n",
    "class Student:\n",
    "    \n",
    "    def __init__(self, name, age):\n",
    "        \n",
    "        self.name = name\n",
    "        \n",
    "        self.age = age"
   ]
  },
  {
   "cell_type": "markdown",
   "id": "04fdc761-f159-48f4-b61b-2c98e497529d",
   "metadata": {},
   "source": [
    "## 10. What are class and static methods in Python?\n",
    "\n",
    "Instance Method → Works with self (object’s data).\n",
    "\n",
    "Class Method → Defined with @classmethod, works with cls (class-level data).\n",
    "\n",
    "Static Method → Defined with @staticmethod, independent of class & object, works like a normal function inside a class.\n",
    "\n",
    "✅ Example:\n",
    "\n",
    "class Demo:\n",
    "    @classmethod\n",
    "    \n",
    "    def class_method(cls):\n",
    "        \n",
    "        print(\"Class method\")\n",
    "\n",
    "    @staticmethod\n",
    "    \n",
    "    def static_method():\n",
    "        \n",
    "        print(\"Static method\")"
   ]
  },
  {
   "cell_type": "markdown",
   "id": "7b5a9a12-366a-4c27-8c5a-a51b099a6550",
   "metadata": {},
   "source": [
    "## 11.What is method overloading in Python?\n",
    "\n",
    "In many languages, method overloading means having multiple methods with the same name but different parameters.\n",
    "\n",
    "Python does not support true overloading.\n",
    "\n",
    "Instead, we can use default arguments or *args/**kwargs to mimic it.\n",
    "\n",
    "✅ Example:\n",
    "\n",
    "class Math:\n",
    "    \n",
    "    def add(self, a, b=0, c=0): \n",
    "        \n",
    "        return a + b + c\n",
    "\n",
    "m = Math()\n",
    "\n",
    "print(m.add(5))  \n",
    "\n",
    "print(m.add(5, 10))   \n",
    "\n",
    "print(m.add(5, 10, 20)) \n"
   ]
  },
  {
   "cell_type": "markdown",
   "id": "eb804e24-ca8c-4177-8765-c9a05b50f705",
   "metadata": {},
   "source": [
    "## 12.What is method overriding in OOP?\n",
    "\n",
    "When a child class defines a method with the same name as the parent class, it overrides the parent’s method.\n",
    "\n",
    "This enables runtime polymorphism.\n",
    "\n",
    "✅ Example:\n",
    "\n",
    "class Animal:\n",
    "\n",
    "    def speak(self):\n",
    "\n",
    "        print(\"Some sound\")\n",
    "\n",
    "class Dog(Animal):\n",
    "\n",
    "    def speak(self):\n",
    "\n",
    "        print(\"Bark\")  "
   ]
  },
  {
   "cell_type": "markdown",
   "id": "2b0698f8-cfa6-4ee3-9591-0c10baf89bad",
   "metadata": {},
   "source": [
    "## 13. What is a property decorator in Python?\n",
    "\n",
    "@property allows you to use methods like attributes.\n",
    "\n",
    "Used for getter/setter functionality.\n",
    "\n",
    "✅ Example:\n",
    "\n",
    "class Student:\n",
    "    \n",
    "    def __init__(self, name):\n",
    "        \n",
    "        self._name = name\n",
    "\n",
    "    @property\n",
    "    \n",
    "    def name(self):  \n",
    "        \n",
    "        return self._name\n",
    "\n",
    "    @name.setter\n",
    "    \n",
    "    def name(self, value): \n",
    "        \n",
    "        self._name = value\n",
    "\n",
    "s = Student(\"Alice\")\n",
    "\n",
    "print(s.name) \n",
    "\n",
    "s.name = \"Bob\""
   ]
  },
  {
   "cell_type": "markdown",
   "id": "e64235e0-251c-4785-984c-056aaccf11ca",
   "metadata": {},
   "source": [
    "## 14.Why is polymorphism important in OOP?\n",
    "\n",
    "It allows the same interface (method name) to represent different behaviors.\n",
    "\n",
    "Improves code reusability, flexibility, and scalability.\n",
    "\n",
    "✅ Example: One draw() method can work for Circle, Square, Triangle."
   ]
  },
  {
   "cell_type": "markdown",
   "id": "242cc610-6259-4e00-9d6f-b50e1b30fbb2",
   "metadata": {},
   "source": [
    "## 15. What is an abstract class in Python?\n",
    "\n",
    "A class that cannot be instantiated directly.\n",
    "\n",
    "It may contain abstract methods (declared but not implemented).\n",
    "\n",
    "Defined using abc module.\n",
    "\n",
    "✅ Example:\n",
    "\n",
    "from abc import ABC, abstractmethod\n",
    "\n",
    "class Shape(ABC):\n",
    "\n",
    "    @abstractmethod\n",
    "\n",
    "    def area(self):\n",
    "        \n",
    "        pass"
   ]
  },
  {
   "cell_type": "markdown",
   "id": "74f061d3-8c27-486a-b645-9f0144bb7117",
   "metadata": {},
   "source": [
    "## 16. What are the advantages of OOP?\n",
    "\n",
    "Code reusability (inheritance).\n",
    "\n",
    "Easier maintenance and debugging.\n",
    "\n",
    "Encapsulation (data security).\n",
    "\n",
    "Polymorphism (flexibility).\n",
    "\n",
    "Models real-world entities."
   ]
  },
  {
   "cell_type": "markdown",
   "id": "84bdea00-e295-40f2-bf87-f34816ab86c7",
   "metadata": {},
   "source": [
    "## 17.What is the difference between a class variable and an instance variable?\n",
    "\n",
    "Class variable → Shared by all objects of the class.\n",
    "\n",
    "Instance variable → Unique to each object.\n",
    "\n",
    "✅ Example:\n",
    "\n",
    "class Car:\n",
    "    \n",
    "    wheels = 4 \n",
    "    \n",
    "    def __init__(self, color):\n",
    "        \n",
    "        self.color = color  \n"
   ]
  },
  {
   "cell_type": "markdown",
   "id": "f0f7f8cc-e5c0-463d-b27c-29d4f5a74647",
   "metadata": {},
   "source": [
    "## 18.What is multiple inheritance in Python?\n",
    "\n",
    "A class can inherit from more than one parent class.\n",
    "\n",
    "Python resolves conflicts using Method Resolution Order (MRO).\n",
    "\n",
    "✅ Example:\n",
    "\n",
    "class A: pass\n",
    "\n",
    "class B: pass\n",
    "    \n",
    "class C(A, B): pass "
   ]
  },
  {
   "cell_type": "markdown",
   "id": "13a21ae1-d800-4b03-971a-3c437bb13f7e",
   "metadata": {},
   "source": [
    "## 19.Explain the purpose of ‘’__str__’ and ‘__repr__’ ‘ methods in Python?\n",
    "\n",
    "__str__ → User-friendly string representation (for print()).\n",
    "\n",
    "__repr__ → Developer-friendly, unambiguous representation (for debugging).\n",
    "\n",
    "✅ Example:\n",
    "\n",
    "class Book:\n",
    "    def __init__(self, title):\n",
    "        self.title = title\n",
    "\n",
    "    def __str__(self):\n",
    "        return f\"Book: {self.title}\"  \n",
    "\n",
    "    def __repr__(self):\n",
    "        return f\"Book('{self.title}')\""
   ]
  },
  {
   "cell_type": "markdown",
   "id": "d12ce949-ddcc-4fdc-90bd-7c1e0cbef881",
   "metadata": {},
   "source": [
    "## 20. What is the significance of the ‘super()’ function in Python?\n",
    "\n",
    "super() is used to call methods of the parent class inside a child class.\n",
    "\n",
    "Useful in inheritance and method overriding.\n",
    "\n",
    "✅ Example:\n",
    "\n",
    "class Person:\n",
    "    \n",
    "    def __init__(self, name):\n",
    "        \n",
    "        self.name = name\n",
    "\n",
    "class Student(Person):\n",
    "    \n",
    "    def __init__(self, name, grade):\n",
    "        \n",
    "        super().__init__(name)  \n",
    "        \n",
    "        self.grade = grade"
   ]
  },
  {
   "cell_type": "markdown",
   "id": "4676b4ca-1ae7-4b13-92fe-d1dd9ffbd075",
   "metadata": {},
   "source": [
    "## 21.What is the significance of the __del__ method in Python?\n",
    "\n",
    "__del__ is a destructor method in Python.\n",
    "\n",
    "It is called automatically when an object is about to be destroyed (garbage collected).\n",
    "\n",
    "Used for cleanup tasks (like closing files, releasing resources).\n",
    "\n",
    "✅ Example:\n",
    "\n",
    "class Demo:\n",
    "\n",
    "    def __del__(self):\n",
    "\n",
    "        print(\"Destructor called, object deleted.\")\n",
    "\n",
    "obj = Demo()\n",
    "   \n",
    "del obj  "
   ]
  },
  {
   "cell_type": "markdown",
   "id": "31051ddf-966a-4bed-b580-424390a9bba3",
   "metadata": {},
   "source": [
    "## 22. What is the difference between @staticmethod and @classmethod in Python?\n",
    "\n",
    "@staticmethod\n",
    "\n",
    "Doesn’t take self or cls.\n",
    "\n",
    "Behaves like a normal function inside a class.\n",
    "\n",
    "Cannot access or modify class state.\n",
    "\n",
    "@classmethod\n",
    "\n",
    "Takes cls as the first parameter.\n",
    "\n",
    "Can access/modify class variables.\n",
    "\n",
    "✅ Example:\n",
    "\n",
    "class Demo:\n",
    "    \n",
    "    count = 0\n",
    "\n",
    "    @classmethod\n",
    "    \n",
    "    def increment(cls):\n",
    "        \n",
    "        cls.count += 1 \n",
    "\n",
    "    @staticmethod\n",
    "    \n",
    "    def greet(name):\n",
    "        \n",
    "        return f\"Hello, {name}\"\n"
   ]
  },
  {
   "cell_type": "markdown",
   "id": "95ddc49c-169c-4e25-98dc-93f7538c7d2b",
   "metadata": {},
   "source": [
    "## 23. How does polymorphism work in Python with inheritance?\n",
    "\n",
    "Polymorphism allows the same method name to perform different tasks depending on the object type.\n",
    "\n",
    "Achieved by method overriding in inheritance.\n",
    "\n",
    "✅ Example:\n",
    "\n",
    "class Animal:\n",
    "\n",
    "    def speak(self):\n",
    "\n",
    "        print(\"Some sound\")\n",
    "\n",
    "class Dog(Animal):\n",
    "\n",
    "    def speak(self):\n",
    "\n",
    "        print(\"Bark\")\n",
    "\n",
    "class Cat(Animal):\n",
    "\n",
    "    def speak(self):\n",
    "\n",
    "        print(\"Meow\")\n",
    "\n",
    "for a in [Dog(), Cat()]:\n",
    "    \n",
    "    a.speak() "
   ]
  },
  {
   "cell_type": "markdown",
   "id": "a96386f1-dcfe-4adc-99d4-393eefe0db30",
   "metadata": {},
   "source": [
    "## 24. What is method chaining in Python OOP?\n",
    "\n",
    "Method chaining means calling multiple methods in a single line, because each method returns self.\n",
    "\n",
    "Improves readability and concise coding.\n",
    "\n",
    "✅ Example:\n",
    "\n",
    "class Builder:\n",
    "\n",
    "    def __init__(self):\n",
    "\n",
    "        self.data = \"\"\n",
    "\n",
    "    def add_name(self, name):\n",
    "        \n",
    "        self.data += f\"Name: {name}\\n\"\n",
    "        \n",
    "        return self   \n",
    "\n",
    "    def add_age(self, age):\n",
    "        \n",
    "        self.data += f\"Age: {age}\\n\"\n",
    "        \n",
    "        return self\n",
    "\n",
    "    def build(self):\n",
    "        \n",
    "        return self.data\n",
    "\n",
    "b = Builder().add_name(\"Alice\").add_age(25).build()\n",
    "\n",
    "print(b)"
   ]
  },
  {
   "cell_type": "markdown",
   "id": "9ceeaa34-94d4-4a65-bd68-b56e05d3343a",
   "metadata": {},
   "source": [
    "## 25. What is the purpose of the __call__ method in Python?\n",
    "\n",
    "__call__ makes an object callable like a function.\n",
    "\n",
    "If a class defines __call__, its instances can be used with ().\n",
    "\n",
    "✅ Example:\n",
    "\n",
    "class Multiplier:\n",
    "    \n",
    "    def __init__(self, factor):\n",
    "        \n",
    "        self.factor = factor\n",
    "\n",
    "    def __call__(self, x):\n",
    "        \n",
    "        return x * self.factor\n",
    "\n",
    "m = Multiplier(5)\n",
    "\n",
    "print(m(10))  "
   ]
  },
  {
   "cell_type": "markdown",
   "id": "d59605c0-b8f2-4590-a863-2806cfa5a39b",
   "metadata": {},
   "source": [
    "### PRACTICAL QUETION"
   ]
  },
  {
   "cell_type": "code",
   "execution_count": 1,
   "id": "d58735a4-a3f0-41ca-9d86-06b814ba94cb",
   "metadata": {},
   "outputs": [],
   "source": [
    "## 1. Create a parent class Animal with a method speak() that prints a generic message. Create a child clas that overrides the speak() method to print \"Bark!\".\n",
    "\n",
    "\n",
    "class Animal:\n",
    "    def speak(self):\n",
    "        print(\"This animal makes a sound.\")\n",
    "\n",
    "\n",
    "class Dog(Animal):\n",
    "    def speak(self):  \n",
    "        print(\"Bark!\")\n"
   ]
  },
  {
   "cell_type": "code",
   "execution_count": 7,
   "id": "f0cdde76-cba7-461b-9125-ea7609513021",
   "metadata": {},
   "outputs": [
    {
     "name": "stdout",
     "output_type": "stream",
     "text": [
      "This animal makes a sound.\n"
     ]
    }
   ],
   "source": [
    "a = Animal()\n",
    "a.speak()"
   ]
  },
  {
   "cell_type": "code",
   "execution_count": 9,
   "id": "1207b490-1ce1-491c-b92d-d4e52e6f9cd8",
   "metadata": {},
   "outputs": [
    {
     "name": "stdout",
     "output_type": "stream",
     "text": [
      "Bark!\n"
     ]
    }
   ],
   "source": [
    "a = Dog()\n",
    "a.speak()"
   ]
  },
  {
   "cell_type": "code",
   "execution_count": 10,
   "id": "b0e3e2d6-2160-4dc3-bd38-5ec91a7d19da",
   "metadata": {},
   "outputs": [],
   "source": [
    "##2. Write a program to create an abstract class Shape with a method area(). Derive classes Circle and Rectangle from it and implement the area() method in both.\n",
    "\n",
    "from abc import ABC, abstractmethod\n",
    "import math\n",
    "\n",
    "\n",
    "class Shape(ABC):\n",
    "    @abstractmethod\n",
    "    def area(self):\n",
    "        pass   \n",
    "\n",
    "\n",
    "\n",
    "class Circle(Shape):\n",
    "    def __init__(self, radius):\n",
    "        self.radius = radius\n",
    "\n",
    "    def area(self):\n",
    "        return math.pi * self.radius * self.radius\n",
    "\n",
    "\n",
    "class Rectangle(Shape):\n",
    "    def __init__(self, length, width):\n",
    "        self.length = length\n",
    "        self.width = width\n",
    "\n",
    "    def area(self):\n",
    "        return self.length * self.width\n",
    "\n"
   ]
  },
  {
   "cell_type": "code",
   "execution_count": 11,
   "id": "5f148cc6-fac3-4eaf-b885-b60947591904",
   "metadata": {},
   "outputs": [
    {
     "name": "stdout",
     "output_type": "stream",
     "text": [
      "Area of Circle: 78.53981633974483\n"
     ]
    }
   ],
   "source": [
    "c = Circle(5)\n",
    "print(\"Area of Circle:\", c.area()) "
   ]
  },
  {
   "cell_type": "code",
   "execution_count": 12,
   "id": "74166948-fa6b-406a-9267-d8df50fe5ea2",
   "metadata": {},
   "outputs": [
    {
     "name": "stdout",
     "output_type": "stream",
     "text": [
      "Area of Rectangle: 24\n"
     ]
    }
   ],
   "source": [
    "r = Rectangle(4, 6)\n",
    "print(\"Area of Rectangle:\", r.area())"
   ]
  },
  {
   "cell_type": "code",
   "execution_count": 13,
   "id": "27df146a-7543-492d-8975-470ecb49852f",
   "metadata": {},
   "outputs": [],
   "source": [
    "## 3. Implement a multi-level inheritance scenario where a class Vehicle has an attribute type. Derive a class Car and further derive a class ElectricCar that adds a battery attribute.\n",
    "\n",
    "class Vehicle:\n",
    "    def __init__(self, v_type):\n",
    "        self.type = v_type\n",
    "\n",
    "    def show_type(self):\n",
    "        print(\"Vehicle type:\", self.type)\n",
    "\n",
    "\n",
    "\n",
    "class Car(Vehicle):\n",
    "    def __init__(self, v_type, brand):\n",
    "        super().__init__(v_type)  \n",
    "        self.brand = brand\n",
    "\n",
    "    def show_details(self):\n",
    "        self.show_type()\n",
    "        print(\"Car brand:\", self.brand)\n",
    "\n",
    "\n",
    "\n",
    "class ElectricCar(Car):\n",
    "    def __init__(self, v_type, brand, battery):\n",
    "        super().__init__(v_type, brand)  \n",
    "        self.battery = battery\n",
    "\n",
    "    def show_info(self):\n",
    "        self.show_details()\n",
    "        print(\"Battery capacity:\", self.battery, \"kWh\")\n",
    "\n",
    "\n"
   ]
  },
  {
   "cell_type": "code",
   "execution_count": 14,
   "id": "45fbf78b-7f7f-43ca-bf85-f4250b6b7753",
   "metadata": {},
   "outputs": [
    {
     "name": "stdout",
     "output_type": "stream",
     "text": [
      "Vehicle type: Four Wheeler\n",
      "Car brand: Tesla\n",
      "Battery capacity: 85 kWh\n"
     ]
    }
   ],
   "source": [
    "e_car = ElectricCar(\"Four Wheeler\", \"Tesla\", 85)\n",
    "e_car.show_info()\n"
   ]
  },
  {
   "cell_type": "code",
   "execution_count": 15,
   "id": "9d633925-135b-4924-a4fc-1c4c6ea3f15e",
   "metadata": {},
   "outputs": [],
   "source": [
    "##4. Demonstrate polymorphism by creating a base class Bird with a method fly(). Create two derived classes Sparrow and Penguin that override the fly() method.\n",
    "\n",
    "class Bird:\n",
    "    def fly(self):\n",
    "        print(\"Some birds can fly in different ways.\")\n",
    "\n",
    "class Sparrow(Bird):\n",
    "    def fly(self): \n",
    "        print(\"Sparrow can fly high in the sky.\")\n",
    "class Penguin(Bird):\n",
    "    def fly(self):   \n",
    "        print(\"Penguins cannot fly, they swim instead.\")\n",
    "\n"
   ]
  },
  {
   "cell_type": "code",
   "execution_count": 16,
   "id": "cfc5bc7d-200b-455b-a0ab-0a4cdd75f073",
   "metadata": {},
   "outputs": [],
   "source": [
    "birds = [Sparrow(), Penguin()]\n"
   ]
  },
  {
   "cell_type": "code",
   "execution_count": 17,
   "id": "a3f5f4d5-16f4-4373-9163-3581a5f018e6",
   "metadata": {},
   "outputs": [
    {
     "name": "stdout",
     "output_type": "stream",
     "text": [
      "Sparrow can fly high in the sky.\n",
      "Penguins cannot fly, they swim instead.\n"
     ]
    }
   ],
   "source": [
    "for bird in birds:\n",
    "    bird.fly()  "
   ]
  },
  {
   "cell_type": "code",
   "execution_count": 18,
   "id": "edded603-5af4-4e2d-9887-c7a0feafbca0",
   "metadata": {},
   "outputs": [],
   "source": [
    "## 5. Write a program to demonstrate encapsulation by creating a class BankAccount with private attributes balance and methods to deposit, withdraw, and check balance.\n",
    "\n",
    "class BankAccount:\n",
    "    def __init__(self, initial_balance=0):\n",
    "        self.__balance = initial_balance  \n",
    "\n",
    "    def deposit(self, amount):\n",
    "        if amount > 0:\n",
    "            self.__balance += amount\n",
    "            print(f\"Deposited: {amount}\")\n",
    "        else:\n",
    "            print(\"Deposit amount must be positive.\")\n",
    "\n",
    "    def withdraw(self, amount):\n",
    "        if 0 < amount <= self.__balance:\n",
    "            self.__balance -= amount\n",
    "            print(f\"Withdrawn: {amount}\")\n",
    "        else:\n",
    "            print(\"Insufficient balance or invalid amount.\")\n",
    "\n",
    "    \n",
    "    def check_balance(self):\n",
    "        print(f\"Current Balance: {self.__balance}\")\n",
    "\n"
   ]
  },
  {
   "cell_type": "code",
   "execution_count": 19,
   "id": "37e3c9b1-ed8f-4d09-bce3-26e0af4ea23b",
   "metadata": {},
   "outputs": [
    {
     "name": "stdout",
     "output_type": "stream",
     "text": [
      "Current Balance: 1000\n",
      "Deposited: 500\n",
      "Withdrawn: 300\n",
      "Current Balance: 1200\n"
     ]
    }
   ],
   "source": [
    "account = BankAccount(1000)   \n",
    "account.check_balance()\n",
    "\n",
    "account.deposit(500)\n",
    "account.withdraw(300)\n",
    "account.check_balance()\n"
   ]
  },
  {
   "cell_type": "code",
   "execution_count": 20,
   "id": "e4d50419-9b38-4a8f-839f-b4f03d10873f",
   "metadata": {},
   "outputs": [],
   "source": [
    "## 6. Demonstrate runtime polymorphism using a method play() in a base class Instrument. Derive classes Guitar and Piano that implement their own version of play().\n",
    "\n",
    "class Instrument:\n",
    "    def play(self):\n",
    "        print(\"An instrument is playing...\")\n",
    "\n",
    "\n",
    "class Guitar(Instrument):\n",
    "    def play(self):  \n",
    "        print(\"Strumming the guitar 🎸\")\n",
    "\n",
    "class Piano(Instrument):\n",
    "    def play(self):   \n",
    "        print(\"Playing the piano 🎹\")\n",
    "\n",
    "\n"
   ]
  },
  {
   "cell_type": "code",
   "execution_count": 21,
   "id": "1f1000b7-da87-45ed-a0a8-14e074294217",
   "metadata": {},
   "outputs": [],
   "source": [
    "instruments = [Guitar(), Piano()]"
   ]
  },
  {
   "cell_type": "code",
   "execution_count": 22,
   "id": "fd7986e0-77c2-4af0-801e-4b6257bc6b98",
   "metadata": {},
   "outputs": [
    {
     "name": "stdout",
     "output_type": "stream",
     "text": [
      "Strumming the guitar 🎸\n",
      "Playing the piano 🎹\n"
     ]
    }
   ],
   "source": [
    "for instrument in instruments:\n",
    "    instrument.play() "
   ]
  },
  {
   "cell_type": "code",
   "execution_count": 23,
   "id": "c5857a66-9c8f-40b9-8d07-70c4c1e35d7a",
   "metadata": {},
   "outputs": [],
   "source": [
    "##7. Create a class MathOperations with a class method add_numbers() to add two numbers and a static method subtract_numbers() to subtract two numbers.\n",
    "\n",
    "\n",
    "class MathOperations:\n",
    "    \n",
    "    @classmethod\n",
    "    def add_numbers(cls, a, b):\n",
    "        return a + b\n",
    "\n",
    "\n",
    "    @staticmethod\n",
    "    def subtract_numbers(a, b):\n",
    "        return a - b\n",
    "\n"
   ]
  },
  {
   "cell_type": "code",
   "execution_count": 24,
   "id": "ce56e780-54c7-4d9e-af89-9773d8063be5",
   "metadata": {},
   "outputs": [
    {
     "name": "stdout",
     "output_type": "stream",
     "text": [
      "Addition: 15\n",
      "Subtraction: 5\n"
     ]
    }
   ],
   "source": [
    "print(\"Addition:\", MathOperations.add_numbers(10, 5))     \n",
    "print(\"Subtraction:\", MathOperations.subtract_numbers(10, 5))"
   ]
  },
  {
   "cell_type": "code",
   "execution_count": 25,
   "id": "52da3fa3-aeb3-4620-b0c1-793dbe0de790",
   "metadata": {},
   "outputs": [],
   "source": [
    "## 8. Implement a class Person with a class method to count the total number of persons created\n",
    "\n",
    "class Person:\n",
    "    count = 0  \n",
    "\n",
    "    def __init__(self, name):\n",
    "        self.name = name\n",
    "        Person.count += 1  \n",
    "    @classmethod\n",
    "    def total_persons(cls):\n",
    "        return cls.count\n"
   ]
  },
  {
   "cell_type": "code",
   "execution_count": 27,
   "id": "c2466729-55eb-42b6-85c6-b942a2dcd223",
   "metadata": {},
   "outputs": [
    {
     "name": "stdout",
     "output_type": "stream",
     "text": [
      "Total persons created: 3\n"
     ]
    }
   ],
   "source": [
    "p1 = Person(\"Alice\")\n",
    "p2 = Person(\"Bob\")\n",
    "p3 = Person(\"Charlie\")\n",
    "\n",
    "print(\"Total persons created:\", Person.total_persons())  "
   ]
  },
  {
   "cell_type": "code",
   "execution_count": 28,
   "id": "fcbe8613-c89f-4839-bc1a-d6e651cb5e3e",
   "metadata": {},
   "outputs": [],
   "source": [
    "## 9. Write a class Fraction with attributes numerator and denominator. Override the str method to display the fraction as \"numerator/denominator\".\n",
    "\n",
    "class Fraction:\n",
    "    def __init__(self, numerator, denominator):\n",
    "        self.numerator = numerator\n",
    "        self.denominator = denominator\n",
    "\n",
    "    \n",
    "    def __str__(self):\n",
    "        return f\"{self.numerator}/{self.denominator}\"\n"
   ]
  },
  {
   "cell_type": "code",
   "execution_count": 29,
   "id": "6d7c327a-06f2-4934-8014-d610aecb0d8b",
   "metadata": {},
   "outputs": [
    {
     "name": "stdout",
     "output_type": "stream",
     "text": [
      "Fraction 1: 3/4\n",
      "Fraction 2: 5/6\n"
     ]
    }
   ],
   "source": [
    "f1 = Fraction(3, 4)\n",
    "f2 = Fraction(5, 6)\n",
    "\n",
    "print(\"Fraction 1:\", f1)   \n",
    "print(\"Fraction 2:\", f2)   "
   ]
  },
  {
   "cell_type": "code",
   "execution_count": 30,
   "id": "d295f592-75a1-4540-875b-ab8a212ac3d5",
   "metadata": {},
   "outputs": [],
   "source": [
    "## 10. Demonstrate operator overloading by creating a class Vector and overriding the add method to add two vectors.\n",
    "\n",
    "\n",
    "class Vector:\n",
    "    def __init__(self, x, y):\n",
    "        self.x = x\n",
    "        self.y = y\n",
    "\n",
    "    \n",
    "    def __add__(self, other):\n",
    "        return Vector(self.x + other.x, self.y + other.y)\n",
    "    def __str__(self):\n",
    "        return f\"({self.x}, {self.y})\""
   ]
  },
  {
   "cell_type": "code",
   "execution_count": 31,
   "id": "201780f0-5773-44f0-bc21-c8731c9668e1",
   "metadata": {},
   "outputs": [
    {
     "name": "stdout",
     "output_type": "stream",
     "text": [
      "Result of vector addition: (6, 8)\n"
     ]
    }
   ],
   "source": [
    "v1 = Vector(2, 3)\n",
    "v2 = Vector(4, 5)\n",
    "\n",
    "v3 = v1 + v2  \n",
    "print(\"Result of vector addition:\", v3)  "
   ]
  },
  {
   "cell_type": "code",
   "execution_count": 32,
   "id": "462d4b7f-21a2-440b-b616-5563bf467f13",
   "metadata": {},
   "outputs": [],
   "source": [
    "## 11. Create a class Person with attributes name and age. Add a method greet() that prints \"Hello, my name is {name} and I am {age} years old.\"\n",
    "\n",
    "class Person:\n",
    "    def __init__(self, name, age):\n",
    "        self.name = name\n",
    "        self.age = age\n",
    "\n",
    "    # Method to greet\n",
    "    def greet(self):\n",
    "        print(f\"Hello, my name is {self.name} and I am {self.age} years old.\")\n",
    "\n"
   ]
  },
  {
   "cell_type": "code",
   "execution_count": 33,
   "id": "3ab01798-6cda-4892-a72e-3bb4f6230942",
   "metadata": {},
   "outputs": [
    {
     "name": "stdout",
     "output_type": "stream",
     "text": [
      "Hello, my name is Alice and I am 25 years old.\n",
      "Hello, my name is Bob and I am 30 years old.\n"
     ]
    }
   ],
   "source": [
    "p1 = Person(\"Alice\", 25)\n",
    "p1.greet() \n",
    "\n",
    "p2 = Person(\"Bob\", 30)\n",
    "p2.greet()  "
   ]
  },
  {
   "cell_type": "code",
   "execution_count": 34,
   "id": "8be37bd5-c836-4c2a-a6d7-ae5077233a63",
   "metadata": {},
   "outputs": [],
   "source": [
    "## 12. Implement a class Student with attributes name and grades. Create a method average_grade() to compute the average of the grades.\n",
    "\n",
    "class Student:\n",
    "    def __init__(self, name, grades):\n",
    "        self.name = name\n",
    "        self.grades = grades  \n",
    "\n",
    "    # Method to calculate average grade\n",
    "    def average_grade(self):\n",
    "        if not self.grades:\n",
    "            return 0\n",
    "        return sum(self.grades) / len(self.grades)\n",
    "\n",
    "\n"
   ]
  },
  {
   "cell_type": "code",
   "execution_count": 35,
   "id": "de5ae1df-efa9-4919-ae17-2393beeb2f5a",
   "metadata": {},
   "outputs": [
    {
     "name": "stdout",
     "output_type": "stream",
     "text": [
      "Alice's average grade: 86.25\n",
      "Bob's average grade: 71.67\n"
     ]
    }
   ],
   "source": [
    "s1 = Student(\"Alice\", [85, 90, 78, 92])\n",
    "print(f\"{s1.name}'s average grade: {s1.average_grade():.2f}\")  \n",
    "\n",
    "s2 = Student(\"Bob\", [70, 80, 65])\n",
    "print(f\"{s2.name}'s average grade: {s2.average_grade():.2f}\")  \n"
   ]
  },
  {
   "cell_type": "code",
   "execution_count": 36,
   "id": "7c866be4-578d-4db0-ac6b-81091533d338",
   "metadata": {},
   "outputs": [],
   "source": [
    "## 13. Create a class Rectangle with methods set_dimensions() to set the dimensions and area() to calculate the area.\n",
    "\n",
    "class Rectangle:\n",
    "    def __init__(self):\n",
    "        self.length = 0\n",
    "        self.width = 0\n",
    "\n",
    "\n",
    "    def set_dimensions(self, length, width):\n",
    "        self.length = length\n",
    "        self.width = width\n",
    "\n",
    "    \n",
    "    def area(self):\n",
    "        return self.length * self.width\n",
    "\n"
   ]
  },
  {
   "cell_type": "code",
   "execution_count": 37,
   "id": "b9bdf72d-b377-4a82-8aa6-06367bb8ea17",
   "metadata": {},
   "outputs": [
    {
     "name": "stdout",
     "output_type": "stream",
     "text": [
      "Area of rectangle: 15\n"
     ]
    }
   ],
   "source": [
    "r = Rectangle()\n",
    "r.set_dimensions(5, 3)\n",
    "print(\"Area of rectangle:\", r.area()) "
   ]
  },
  {
   "cell_type": "code",
   "execution_count": 38,
   "id": "03d43779-fde6-4b8f-9049-a3ef6742afc0",
   "metadata": {},
   "outputs": [],
   "source": [
    "## 14. Create a class Employee with a method calculate_salary() that computes the salary based on hours worked and hourly rate. Create a derived class Manager that adds a bonus to the salary.\n",
    "\n",
    "class Employee:\n",
    "    def __init__(self, name, hours_worked, hourly_rate):\n",
    "        self.name = name\n",
    "        self.hours_worked = hours_worked\n",
    "        self.hourly_rate = hourly_rate\n",
    "\n",
    "    def calculate_salary(self):\n",
    "        return self.hours_worked * self.hourly_rate\n",
    "\n",
    "\n",
    "\n",
    "class Manager(Employee):\n",
    "    def __init__(self, name, hours_worked, hourly_rate, bonus):\n",
    "        super().__init__(name, hours_worked, hourly_rate)\n",
    "        self.bonus = bonus\n",
    "\n",
    "    \n",
    "    def calculate_salary(self):\n",
    "        base_salary = super().calculate_salary()\n",
    "        return base_salary + self.bonus\n"
   ]
  },
  {
   "cell_type": "code",
   "execution_count": 39,
   "id": "fa7966e2-5f7b-45c7-9df9-6935e58497eb",
   "metadata": {},
   "outputs": [
    {
     "name": "stdout",
     "output_type": "stream",
     "text": [
      "Alice's salary: 20000\n",
      "Bob's salary: 25000\n"
     ]
    }
   ],
   "source": [
    "e = Employee(\"Alice\", 40, 500)\n",
    "print(f\"{e.name}'s salary: {e.calculate_salary()}\")  \n",
    "\n",
    "\n",
    "m = Manager(\"Bob\", 40, 500, 5000)\n",
    "print(f\"{m.name}'s salary: {m.calculate_salary()}\") "
   ]
  },
  {
   "cell_type": "code",
   "execution_count": 44,
   "id": "e914eb60-9fd2-4a64-8d38-765ca908708f",
   "metadata": {},
   "outputs": [],
   "source": [
    "## 15. Create a class Product with attributes name, price, and quantity. Implement a method total_price() that calculates the total price of the product.\n",
    "\n",
    "class Product:\n",
    "    def __init__(self, name, price, quantity):\n",
    "        self.name = name\n",
    "        self.price = price\n",
    "        self.quantity = quantity\n",
    "\n",
    "    \n",
    "    def total_price(self):\n",
    "        return self.price * self.quantity"
   ]
  },
  {
   "cell_type": "code",
   "execution_count": 45,
   "id": "4c01c959-45ab-4f73-9a90-2a161a1f5027",
   "metadata": {},
   "outputs": [
    {
     "name": "stdout",
     "output_type": "stream",
     "text": [
      "Total price of Laptop: 120000\n",
      "Total price of Phone: 60000\n"
     ]
    }
   ],
   "source": [
    "p1 = Product(\"Laptop\", 60000, 2)\n",
    "print(f\"Total price of {p1.name}: {p1.total_price()}\")\n",
    "\n",
    "p2 = Product(\"Phone\", 20000, 3)\n",
    "print(f\"Total price of {p2.name}: {p2.total_price()}\")"
   ]
  },
  {
   "cell_type": "code",
   "execution_count": 46,
   "id": "d0dc9a96-7086-41ef-8fe9-47e33e8cdc97",
   "metadata": {},
   "outputs": [],
   "source": [
    "## 16. Create a class Animal with an abstract method sound(). Create two derived classes Cow and Sheep that implement the sound() method.\n",
    "\n",
    "from abc import ABC, abstractmethod\n",
    "\n",
    "class Animal(ABC):\n",
    "    @abstractmethod\n",
    "    def sound(self):\n",
    "        pass   \n",
    "\n",
    "\n",
    "class Cow(Animal):\n",
    "    def sound(self):\n",
    "        return \"Moo!\"\n",
    "\n",
    "\n",
    "\n",
    "class Sheep(Animal):\n",
    "    def sound(self):\n",
    "        return \"Baa!\"\n"
   ]
  },
  {
   "cell_type": "code",
   "execution_count": 47,
   "id": "dde09376-3b68-40f5-9c9b-0b1fa92854d8",
   "metadata": {},
   "outputs": [
    {
     "name": "stdout",
     "output_type": "stream",
     "text": [
      "Cow sound: Moo!\n",
      "Sheep sound: Baa!\n"
     ]
    }
   ],
   "source": [
    "animals = [Cow(), Sheep()]\n",
    "\n",
    "for animal in animals:\n",
    "    print(f\"{animal.__class__.__name__} sound: {animal.sound()}\")"
   ]
  },
  {
   "cell_type": "code",
   "execution_count": 48,
   "id": "e62f1b21-9441-4a85-a45b-749e5274eb3c",
   "metadata": {},
   "outputs": [],
   "source": [
    "## 17. Create a class Book with attributes title, author, and year_published. Add a method get_book_info() that returns a formatted string with the book's details.\n",
    "\n",
    "class Book:\n",
    "    def __init__(self, title, author, year_published):\n",
    "        self.title = title\n",
    "        self.author = author\n",
    "        self.year_published = year_published\n",
    "\n",
    "    \n",
    "    def get_book_info(self):\n",
    "        return f\"'{self.title}' by {self.author}, published in {self.year_published}\"\n",
    "\n"
   ]
  },
  {
   "cell_type": "code",
   "execution_count": 49,
   "id": "48b2ba2f-010d-45e7-ab26-c588a12015ff",
   "metadata": {},
   "outputs": [
    {
     "name": "stdout",
     "output_type": "stream",
     "text": [
      "'To Kill a Mockingbird' by Harper Lee, published in 1960\n"
     ]
    }
   ],
   "source": [
    "b1 = Book(\"To Kill a Mockingbird\", \"Harper Lee\", 1960)\n",
    "print(b1.get_book_info())  "
   ]
  },
  {
   "cell_type": "code",
   "execution_count": 50,
   "id": "7d01eb1f-f692-408e-9954-0a89dc409bac",
   "metadata": {},
   "outputs": [
    {
     "name": "stdout",
     "output_type": "stream",
     "text": [
      "'1984' by George Orwell, published in 1949\n"
     ]
    }
   ],
   "source": [
    "b2 = Book(\"1984\", \"George Orwell\", 1949)\n",
    "print(b2.get_book_info())  "
   ]
  },
  {
   "cell_type": "code",
   "execution_count": 51,
   "id": "1aed254f-dec2-4e05-809f-6f5d914c5491",
   "metadata": {},
   "outputs": [],
   "source": [
    "## 18. Create a class House with attributes address and price. Create a derived class Mansion that adds an attribute number_of_rooms.\n",
    "\n",
    "class House:\n",
    "    def __init__(self, address, price):\n",
    "        self.address = address\n",
    "        self.price = price\n",
    "\n",
    "    def get_info(self):\n",
    "        return f\"Address: {self.address}, Price: {self.price}\"\n",
    "\n",
    "class Mansion(House):\n",
    "    def __init__(self, address, price, number_of_rooms):\n",
    "        super().__init__(address, price)  # call base constructor\n",
    "        self.number_of_rooms = number_of_rooms\n",
    "\n",
    "    def get_info(self):\n",
    "        return f\"Address: {self.address}, Price: {self.price}, Rooms: {self.number_of_rooms}\"\n",
    "\n"
   ]
  },
  {
   "cell_type": "code",
   "execution_count": 52,
   "id": "b5c8a857-8cc8-4f82-995d-781f1ada8a8f",
   "metadata": {},
   "outputs": [
    {
     "name": "stdout",
     "output_type": "stream",
     "text": [
      "Address: 123 Green Street, Price: 5000000\n"
     ]
    }
   ],
   "source": [
    "h1 = House(\"123 Green Street\", 5000000)\n",
    "print(h1.get_info())  \n"
   ]
  },
  {
   "cell_type": "code",
   "execution_count": 53,
   "id": "db5c3eaf-621e-4312-af8f-4b31e5be5a21",
   "metadata": {},
   "outputs": [
    {
     "name": "stdout",
     "output_type": "stream",
     "text": [
      "Address: 456 Luxury Avenue, Price: 20000000, Rooms: 12\n"
     ]
    }
   ],
   "source": [
    "m1 = Mansion(\"456 Luxury Avenue\", 20000000, 12)\n",
    "print(m1.get_info())  "
   ]
  },
  {
   "cell_type": "code",
   "execution_count": null,
   "id": "5947e9b4-631e-417a-9f1e-1a6c6dd3e784",
   "metadata": {},
   "outputs": [],
   "source": []
  }
 ],
 "metadata": {
  "kernelspec": {
   "display_name": "Python 3 (ipykernel)",
   "language": "python",
   "name": "python3"
  },
  "language_info": {
   "codemirror_mode": {
    "name": "ipython",
    "version": 3
   },
   "file_extension": ".py",
   "mimetype": "text/x-python",
   "name": "python",
   "nbconvert_exporter": "python",
   "pygments_lexer": "ipython3",
   "version": "3.11.7"
  },
  "widgets": {
   "application/vnd.jupyter.widget-state+json": {
    "state": {},
    "version_major": 2,
    "version_minor": 0
   }
  }
 },
 "nbformat": 4,
 "nbformat_minor": 5
}
